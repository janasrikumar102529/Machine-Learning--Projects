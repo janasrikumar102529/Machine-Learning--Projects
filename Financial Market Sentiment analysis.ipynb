{
 "cells": [
  {
   "cell_type": "markdown",
   "id": "c306cd40",
   "metadata": {},
   "source": [
    "Financial Market Sentiment analysis"
   ]
  },
  {
   "cell_type": "code",
   "execution_count": 1,
   "id": "66b1ee6c",
   "metadata": {},
   "outputs": [],
   "source": [
    "import pandas as pd\n",
    "import numpy as np"
   ]
  },
  {
   "cell_type": "code",
   "execution_count": 5,
   "id": "9e5b1dfc",
   "metadata": {},
   "outputs": [],
   "source": [
    "df = pd.read_csv(\"C:/YBI - DATASETS/Dataset-main/Financial Market News.csv\",encoding=\"ISO-8859-1\")"
   ]
  },
  {
   "cell_type": "code",
   "execution_count": 6,
   "id": "9ab190eb",
   "metadata": {},
   "outputs": [
    {
     "data": {
      "text/html": [
       "<div>\n",
       "<style scoped>\n",
       "    .dataframe tbody tr th:only-of-type {\n",
       "        vertical-align: middle;\n",
       "    }\n",
       "\n",
       "    .dataframe tbody tr th {\n",
       "        vertical-align: top;\n",
       "    }\n",
       "\n",
       "    .dataframe thead th {\n",
       "        text-align: right;\n",
       "    }\n",
       "</style>\n",
       "<table border=\"1\" class=\"dataframe\">\n",
       "  <thead>\n",
       "    <tr style=\"text-align: right;\">\n",
       "      <th></th>\n",
       "      <th>Date</th>\n",
       "      <th>Label</th>\n",
       "      <th>News 1</th>\n",
       "      <th>News 2</th>\n",
       "      <th>News 3</th>\n",
       "      <th>News 4</th>\n",
       "      <th>News 5</th>\n",
       "      <th>News 6</th>\n",
       "      <th>News 7</th>\n",
       "      <th>News 8</th>\n",
       "      <th>...</th>\n",
       "      <th>News 16</th>\n",
       "      <th>News 17</th>\n",
       "      <th>News 18</th>\n",
       "      <th>News 19</th>\n",
       "      <th>News 20</th>\n",
       "      <th>News 21</th>\n",
       "      <th>News 22</th>\n",
       "      <th>News 23</th>\n",
       "      <th>News 24</th>\n",
       "      <th>News 25</th>\n",
       "    </tr>\n",
       "  </thead>\n",
       "  <tbody>\n",
       "    <tr>\n",
       "      <th>0</th>\n",
       "      <td>01-01-2010</td>\n",
       "      <td>0</td>\n",
       "      <td>McIlroy's men catch cold from Gudjonsson</td>\n",
       "      <td>Obituary: Brian Walsh</td>\n",
       "      <td>Workplace blues leave employers in the red</td>\n",
       "      <td>Classical review: Rattle</td>\n",
       "      <td>Dance review: Merce Cunningham</td>\n",
       "      <td>Genetic tests to be used in setting premiums</td>\n",
       "      <td>Opera review: La Bohème</td>\n",
       "      <td>Pop review: Britney Spears</td>\n",
       "      <td>...</td>\n",
       "      <td>Finland 0 - 0 England</td>\n",
       "      <td>Healy a marked man</td>\n",
       "      <td>Happy birthday Harpers &amp; Queen</td>\n",
       "      <td>Win unlimited access to the Raindance film fes...</td>\n",
       "      <td>Labour pledges £800m to bridge north-south divide</td>\n",
       "      <td>Wales: Lib-Lab pact firm despite resignation</td>\n",
       "      <td>Donald Dewar</td>\n",
       "      <td>Regenerating homes  regenerates well-being in ...</td>\n",
       "      <td>Win £100 worth of underwear</td>\n",
       "      <td>TV guide: Random views</td>\n",
       "    </tr>\n",
       "    <tr>\n",
       "      <th>1</th>\n",
       "      <td>02-01-2010</td>\n",
       "      <td>0</td>\n",
       "      <td>Warning from history points to crash</td>\n",
       "      <td>Investors flee to dollar haven</td>\n",
       "      <td>Banks and tobacco in favour</td>\n",
       "      <td>Review: Llama Farmers</td>\n",
       "      <td>War jitters lead to sell-off</td>\n",
       "      <td>Your not-so-secret history</td>\n",
       "      <td>Review: The Northern Sinfonia</td>\n",
       "      <td>Review: Hysteria</td>\n",
       "      <td>...</td>\n",
       "      <td>Why Wenger will stick to his Gunners</td>\n",
       "      <td>Out of luck England hit rock bottom</td>\n",
       "      <td>Wilkinson out of his depth</td>\n",
       "      <td>Kinsella sparks Irish power play</td>\n",
       "      <td>Brown banished as Scots rebound</td>\n",
       "      <td>Battling Wales cling to lifeline</td>\n",
       "      <td>Ehiogu close to sealing Boro move</td>\n",
       "      <td>Man-to-man marking</td>\n",
       "      <td>Match stats</td>\n",
       "      <td>French referee at centre of storm is no strang...</td>\n",
       "    </tr>\n",
       "    <tr>\n",
       "      <th>2</th>\n",
       "      <td>03-01-2010</td>\n",
       "      <td>0</td>\n",
       "      <td>Comment: Why Israel's peaceniks feel betrayed</td>\n",
       "      <td>Court deals blow to seizure of drug assets</td>\n",
       "      <td>An ideal target for spooks</td>\n",
       "      <td>World steps between two sides intent on war</td>\n",
       "      <td>What the region's papers say</td>\n",
       "      <td>Comment: Fear and rage in Palestine</td>\n",
       "      <td>Poverty and resentment fuels Palestinian fury</td>\n",
       "      <td>Republican feud fear as dissident is killed</td>\n",
       "      <td>...</td>\n",
       "      <td>FTSE goes upwardly mobile</td>\n",
       "      <td>At this price?  BP Amoco</td>\n",
       "      <td>Go fish</td>\n",
       "      <td>Bosnian Serb blows himself up to evade law</td>\n",
       "      <td>Orange float delayed to 2001</td>\n",
       "      <td>Angry factory workers root out fear, favours a...</td>\n",
       "      <td>Smith defied advice on dome payout</td>\n",
       "      <td>Xerox takes the axe to jobs</td>\n",
       "      <td>Comment: Refugees in Britain</td>\n",
       "      <td>Maverick who sparked the new intifada</td>\n",
       "    </tr>\n",
       "    <tr>\n",
       "      <th>3</th>\n",
       "      <td>04-01-2010</td>\n",
       "      <td>1</td>\n",
       "      <td>£750,000-a-goal Weah aims parting shot</td>\n",
       "      <td>Newcastle pay for Fletcher years</td>\n",
       "      <td>Brown sent to the stands for Scotland qualifier</td>\n",
       "      <td>Tourists wary of breaking new ground</td>\n",
       "      <td>Canary Wharf climbs into the FTSE 100</td>\n",
       "      <td>Review: Bill Bailey</td>\n",
       "      <td>Review: Classical</td>\n",
       "      <td>Review: New Contemporaries 2000</td>\n",
       "      <td>...</td>\n",
       "      <td>More cash on way for counties</td>\n",
       "      <td>Cairns carries Kiwis to victory</td>\n",
       "      <td>Year of Blanchflower's flourish when Spurs sto...</td>\n",
       "      <td>New direct approach brings only pay-per-blues</td>\n",
       "      <td>Third Division  round-up</td>\n",
       "      <td>Second Division  round-up</td>\n",
       "      <td>First Division  round-up</td>\n",
       "      <td>McLean ends his career with a punch</td>\n",
       "      <td>Heskey grabs triple crown</td>\n",
       "      <td>Weah on his way as City march on</td>\n",
       "    </tr>\n",
       "    <tr>\n",
       "      <th>4</th>\n",
       "      <td>05-01-2010</td>\n",
       "      <td>1</td>\n",
       "      <td>Leeds arrive in Turkey to the silence of the fans</td>\n",
       "      <td>One woman's vision offers loan lifeline</td>\n",
       "      <td>Working Lives: How world leaders worked</td>\n",
       "      <td>Working Lives: Tricks of the trade</td>\n",
       "      <td>Working Lives: six-hour days, long lunches and...</td>\n",
       "      <td>Pop review: We Love UK</td>\n",
       "      <td>World music review: Marisa Monte</td>\n",
       "      <td>Art review:  Hollingsworth/Heyer</td>\n",
       "      <td>...</td>\n",
       "      <td>Duisenberg in double trouble</td>\n",
       "      <td>Pru to cut pension charges</td>\n",
       "      <td>Art review: Paul Graham</td>\n",
       "      <td>Shearer shot sparks Boro humiliation</td>\n",
       "      <td>Ridsdale's lingering fears as Leeds revisit Tu...</td>\n",
       "      <td>Champions League: Rangers v Galatasaray</td>\n",
       "      <td>Champions League: Lazio v Arsenal</td>\n",
       "      <td>Lazio 1 - 1 Arsenal</td>\n",
       "      <td>England in Pakistan</td>\n",
       "      <td>England given olive-branch reception</td>\n",
       "    </tr>\n",
       "    <tr>\n",
       "      <th>...</th>\n",
       "      <td>...</td>\n",
       "      <td>...</td>\n",
       "      <td>...</td>\n",
       "      <td>...</td>\n",
       "      <td>...</td>\n",
       "      <td>...</td>\n",
       "      <td>...</td>\n",
       "      <td>...</td>\n",
       "      <td>...</td>\n",
       "      <td>...</td>\n",
       "      <td>...</td>\n",
       "      <td>...</td>\n",
       "      <td>...</td>\n",
       "      <td>...</td>\n",
       "      <td>...</td>\n",
       "      <td>...</td>\n",
       "      <td>...</td>\n",
       "      <td>...</td>\n",
       "      <td>...</td>\n",
       "      <td>...</td>\n",
       "      <td>...</td>\n",
       "    </tr>\n",
       "    <tr>\n",
       "      <th>4096</th>\n",
       "      <td>20-03-2021</td>\n",
       "      <td>0</td>\n",
       "      <td>Barclays and RBS shares suspended from trading...</td>\n",
       "      <td>Pope says Church should ask forgiveness from g...</td>\n",
       "      <td>Poland 'shocked' by xenophobic abuse of Poles ...</td>\n",
       "      <td>There will be no second referendum, cabinet ag...</td>\n",
       "      <td>Scotland welcome to join EU, Merkel ally says</td>\n",
       "      <td>Sterling dips below Friday's 31-year low amid ...</td>\n",
       "      <td>No negative news about South African President...</td>\n",
       "      <td>Surge in Hate Crimes in the U.K. Following U.K...</td>\n",
       "      <td>...</td>\n",
       "      <td>German lawyers to probe Erdogan over alleged w...</td>\n",
       "      <td>Boris Johnson says the UK will continue to \"in...</td>\n",
       "      <td>Richard Branson is calling on the UK governmen...</td>\n",
       "      <td>Turkey 'sorry for downing Russian jet'</td>\n",
       "      <td>Edward Snowden lawyer vows new push for pardon...</td>\n",
       "      <td>Brexit opinion poll reveals majority don't wan...</td>\n",
       "      <td>Conservative MP Leave Campaigner: \"The leave c...</td>\n",
       "      <td>Economists predict UK recession, further weake...</td>\n",
       "      <td>New EU 'superstate plan by France, Germany: Cr...</td>\n",
       "      <td>Pakistani clerics declare transgender marriage...</td>\n",
       "    </tr>\n",
       "    <tr>\n",
       "      <th>4097</th>\n",
       "      <td>21-03-2021</td>\n",
       "      <td>1</td>\n",
       "      <td>2,500 Scientists To Australia: If You Want To ...</td>\n",
       "      <td>The personal details of 112,000 French police ...</td>\n",
       "      <td>S&amp;amp;P cuts United Kingdom sovereign credit r...</td>\n",
       "      <td>Huge helium deposit found in Africa</td>\n",
       "      <td>CEO of the South African state broadcaster qui...</td>\n",
       "      <td>Brexit cost investors $2 trillion, the worst o...</td>\n",
       "      <td>Hong Kong democracy activists call for return ...</td>\n",
       "      <td>Brexit: Iceland president says UK can join 'tr...</td>\n",
       "      <td>...</td>\n",
       "      <td>US, Canada and Mexico pledge 50% of power from...</td>\n",
       "      <td>There is increasing evidence that Australia is...</td>\n",
       "      <td>Richard Branson, the founder of Virgin Group, ...</td>\n",
       "      <td>37,000-yr-old skull from Borneo reveals surpri...</td>\n",
       "      <td>Palestinians stone Western Wall worshipers; po...</td>\n",
       "      <td>Jean-Claude Juncker asks Farage: Why are you h...</td>\n",
       "      <td>\"Romanians for Remainians\" offering a new home...</td>\n",
       "      <td>Brexit: Gibraltar in talks with Scotland to st...</td>\n",
       "      <td>8 Suicide Bombers Strike Lebanon</td>\n",
       "      <td>Mexico's security forces routinely use 'sexual...</td>\n",
       "    </tr>\n",
       "    <tr>\n",
       "      <th>4098</th>\n",
       "      <td>22-03-2021</td>\n",
       "      <td>1</td>\n",
       "      <td>Explosion At Airport In Istanbul</td>\n",
       "      <td>Yemeni former president: Terrorism is the offs...</td>\n",
       "      <td>UK must accept freedom of movement to access E...</td>\n",
       "      <td>Devastated: scientists too late to captive bre...</td>\n",
       "      <td>British Labor Party leader Jeremy Corbyn loses...</td>\n",
       "      <td>A Muslim Shop in the UK Was Just Firebombed Wh...</td>\n",
       "      <td>Mexican Authorities Sexually Torture Women in ...</td>\n",
       "      <td>UK shares and pound continue to recover</td>\n",
       "      <td>...</td>\n",
       "      <td>Escape Tunnel, Dug by Hand, Is Found at Holoca...</td>\n",
       "      <td>The land under Beijing is sinking by as much a...</td>\n",
       "      <td>Car bomb and Anti-Islamic attack on Mosque in ...</td>\n",
       "      <td>Emaciated lions in Taiz Zoo are trapped in blo...</td>\n",
       "      <td>Rupert Murdoch describes Brexit as 'wonderful'...</td>\n",
       "      <td>More than 40 killed in Yemen suicide attacks</td>\n",
       "      <td>Google Found Disastrous Symantec and Norton Vu...</td>\n",
       "      <td>Extremist violence on the rise in Germany: Dom...</td>\n",
       "      <td>BBC News: Labour MPs pass Corbyn no-confidence...</td>\n",
       "      <td>Tiny New Zealand town with 'too many jobs' lau...</td>\n",
       "    </tr>\n",
       "    <tr>\n",
       "      <th>4099</th>\n",
       "      <td>23-03-2021</td>\n",
       "      <td>1</td>\n",
       "      <td>Jamaica proposes marijuana dispensers for tour...</td>\n",
       "      <td>Stephen Hawking says pollution and 'stupidity'...</td>\n",
       "      <td>Boris Johnson says he will not run for Tory pa...</td>\n",
       "      <td>Six gay men in Ivory Coast were abused and for...</td>\n",
       "      <td>Switzerland denies citizenship to Muslim immig...</td>\n",
       "      <td>Palestinian terrorist stabs israeli teen girl ...</td>\n",
       "      <td>Puerto Rico will default on $1 billion of debt...</td>\n",
       "      <td>Republic of Ireland fans to be awarded medal f...</td>\n",
       "      <td>...</td>\n",
       "      <td>Googles free wifi at Indian railway stations i...</td>\n",
       "      <td>Mounting evidence suggests 'hobbits' were wipe...</td>\n",
       "      <td>The men who carried out Tuesday's terror attac...</td>\n",
       "      <td>Calls to suspend Saudi Arabia from UN Human Ri...</td>\n",
       "      <td>More Than 100 Nobel Laureates Call Out Greenpe...</td>\n",
       "      <td>British pedophile sentenced to 85 years in US ...</td>\n",
       "      <td>US permitted 1,200 offshore fracks in Gulf of ...</td>\n",
       "      <td>We will be swimming in ridicule - French beach...</td>\n",
       "      <td>UEFA says no minutes of silence for Istanbul v...</td>\n",
       "      <td>Law Enforcement Sources: Gun Used in Paris Ter...</td>\n",
       "    </tr>\n",
       "    <tr>\n",
       "      <th>4100</th>\n",
       "      <td>24-03-2021</td>\n",
       "      <td>1</td>\n",
       "      <td>A 117-year-old woman in Mexico City finally re...</td>\n",
       "      <td>IMF chief backs Athens as permanent Olympic host</td>\n",
       "      <td>The president of France says if Brexit won, so...</td>\n",
       "      <td>British Man Who Must Give Police 24 Hours' Not...</td>\n",
       "      <td>100+ Nobel laureates urge Greenpeace to stop o...</td>\n",
       "      <td>Brazil: Huge spike in number of police killing...</td>\n",
       "      <td>Austria's highest court annuls presidential el...</td>\n",
       "      <td>Facebook wins privacy case, can track any Belg...</td>\n",
       "      <td>...</td>\n",
       "      <td>The United States has placed Myanmar, Uzbekist...</td>\n",
       "      <td>S&amp;amp;P revises European Union credit rating t...</td>\n",
       "      <td>India gets $1 billion loan from World Bank for...</td>\n",
       "      <td>U.S. sailors detained by Iran spoke too much u...</td>\n",
       "      <td>Mass fish kill in Vietnam solved as Taiwan ste...</td>\n",
       "      <td>Philippines president Rodrigo Duterte urges pe...</td>\n",
       "      <td>Spain arrests three Pakistanis accused of prom...</td>\n",
       "      <td>Venezuela, where anger over food shortages is ...</td>\n",
       "      <td>A Hindu temple worker has been killed by three...</td>\n",
       "      <td>Ozone layer hole seems to be healing - US &amp;amp...</td>\n",
       "    </tr>\n",
       "  </tbody>\n",
       "</table>\n",
       "<p>4101 rows × 27 columns</p>\n",
       "</div>"
      ],
      "text/plain": [
       "            Date  Label                                             News 1  \\\n",
       "0     01-01-2010      0           McIlroy's men catch cold from Gudjonsson   \n",
       "1     02-01-2010      0               Warning from history points to crash   \n",
       "2     03-01-2010      0      Comment: Why Israel's peaceniks feel betrayed   \n",
       "3     04-01-2010      1             £750,000-a-goal Weah aims parting shot   \n",
       "4     05-01-2010      1  Leeds arrive in Turkey to the silence of the fans   \n",
       "...          ...    ...                                                ...   \n",
       "4096  20-03-2021      0  Barclays and RBS shares suspended from trading...   \n",
       "4097  21-03-2021      1  2,500 Scientists To Australia: If You Want To ...   \n",
       "4098  22-03-2021      1                   Explosion At Airport In Istanbul   \n",
       "4099  23-03-2021      1  Jamaica proposes marijuana dispensers for tour...   \n",
       "4100  24-03-2021      1  A 117-year-old woman in Mexico City finally re...   \n",
       "\n",
       "                                                 News 2  \\\n",
       "0                                 Obituary: Brian Walsh   \n",
       "1                        Investors flee to dollar haven   \n",
       "2            Court deals blow to seizure of drug assets   \n",
       "3                      Newcastle pay for Fletcher years   \n",
       "4               One woman's vision offers loan lifeline   \n",
       "...                                                 ...   \n",
       "4096  Pope says Church should ask forgiveness from g...   \n",
       "4097  The personal details of 112,000 French police ...   \n",
       "4098  Yemeni former president: Terrorism is the offs...   \n",
       "4099  Stephen Hawking says pollution and 'stupidity'...   \n",
       "4100   IMF chief backs Athens as permanent Olympic host   \n",
       "\n",
       "                                                 News 3  \\\n",
       "0            Workplace blues leave employers in the red   \n",
       "1                           Banks and tobacco in favour   \n",
       "2                            An ideal target for spooks   \n",
       "3       Brown sent to the stands for Scotland qualifier   \n",
       "4               Working Lives: How world leaders worked   \n",
       "...                                                 ...   \n",
       "4096  Poland 'shocked' by xenophobic abuse of Poles ...   \n",
       "4097  S&amp;P cuts United Kingdom sovereign credit r...   \n",
       "4098  UK must accept freedom of movement to access E...   \n",
       "4099  Boris Johnson says he will not run for Tory pa...   \n",
       "4100  The president of France says if Brexit won, so...   \n",
       "\n",
       "                                                 News 4  \\\n",
       "0                              Classical review: Rattle   \n",
       "1                                 Review: Llama Farmers   \n",
       "2           World steps between two sides intent on war   \n",
       "3                  Tourists wary of breaking new ground   \n",
       "4                    Working Lives: Tricks of the trade   \n",
       "...                                                 ...   \n",
       "4096  There will be no second referendum, cabinet ag...   \n",
       "4097                Huge helium deposit found in Africa   \n",
       "4098  Devastated: scientists too late to captive bre...   \n",
       "4099  Six gay men in Ivory Coast were abused and for...   \n",
       "4100  British Man Who Must Give Police 24 Hours' Not...   \n",
       "\n",
       "                                                 News 5  \\\n",
       "0                        Dance review: Merce Cunningham   \n",
       "1                          War jitters lead to sell-off   \n",
       "2                          What the region's papers say   \n",
       "3                 Canary Wharf climbs into the FTSE 100   \n",
       "4     Working Lives: six-hour days, long lunches and...   \n",
       "...                                                 ...   \n",
       "4096      Scotland welcome to join EU, Merkel ally says   \n",
       "4097  CEO of the South African state broadcaster qui...   \n",
       "4098  British Labor Party leader Jeremy Corbyn loses...   \n",
       "4099  Switzerland denies citizenship to Muslim immig...   \n",
       "4100  100+ Nobel laureates urge Greenpeace to stop o...   \n",
       "\n",
       "                                                 News 6  \\\n",
       "0          Genetic tests to be used in setting premiums   \n",
       "1                            Your not-so-secret history   \n",
       "2                   Comment: Fear and rage in Palestine   \n",
       "3                                   Review: Bill Bailey   \n",
       "4                                Pop review: We Love UK   \n",
       "...                                                 ...   \n",
       "4096  Sterling dips below Friday's 31-year low amid ...   \n",
       "4097  Brexit cost investors $2 trillion, the worst o...   \n",
       "4098  A Muslim Shop in the UK Was Just Firebombed Wh...   \n",
       "4099  Palestinian terrorist stabs israeli teen girl ...   \n",
       "4100  Brazil: Huge spike in number of police killing...   \n",
       "\n",
       "                                                 News 7  \\\n",
       "0                               Opera review: La Bohème   \n",
       "1                         Review: The Northern Sinfonia   \n",
       "2         Poverty and resentment fuels Palestinian fury   \n",
       "3                                     Review: Classical   \n",
       "4                      World music review: Marisa Monte   \n",
       "...                                                 ...   \n",
       "4096  No negative news about South African President...   \n",
       "4097  Hong Kong democracy activists call for return ...   \n",
       "4098  Mexican Authorities Sexually Torture Women in ...   \n",
       "4099  Puerto Rico will default on $1 billion of debt...   \n",
       "4100  Austria's highest court annuls presidential el...   \n",
       "\n",
       "                                                 News 8  ...  \\\n",
       "0                            Pop review: Britney Spears  ...   \n",
       "1                                      Review: Hysteria  ...   \n",
       "2           Republican feud fear as dissident is killed  ...   \n",
       "3                       Review: New Contemporaries 2000  ...   \n",
       "4                      Art review:  Hollingsworth/Heyer  ...   \n",
       "...                                                 ...  ...   \n",
       "4096  Surge in Hate Crimes in the U.K. Following U.K...  ...   \n",
       "4097  Brexit: Iceland president says UK can join 'tr...  ...   \n",
       "4098            UK shares and pound continue to recover  ...   \n",
       "4099  Republic of Ireland fans to be awarded medal f...  ...   \n",
       "4100  Facebook wins privacy case, can track any Belg...  ...   \n",
       "\n",
       "                                                News 16  \\\n",
       "0                                 Finland 0 - 0 England   \n",
       "1                  Why Wenger will stick to his Gunners   \n",
       "2                             FTSE goes upwardly mobile   \n",
       "3                         More cash on way for counties   \n",
       "4                          Duisenberg in double trouble   \n",
       "...                                                 ...   \n",
       "4096  German lawyers to probe Erdogan over alleged w...   \n",
       "4097  US, Canada and Mexico pledge 50% of power from...   \n",
       "4098  Escape Tunnel, Dug by Hand, Is Found at Holoca...   \n",
       "4099  Googles free wifi at Indian railway stations i...   \n",
       "4100  The United States has placed Myanmar, Uzbekist...   \n",
       "\n",
       "                                                News 17  \\\n",
       "0                                    Healy a marked man   \n",
       "1                   Out of luck England hit rock bottom   \n",
       "2                              At this price?  BP Amoco   \n",
       "3                       Cairns carries Kiwis to victory   \n",
       "4                            Pru to cut pension charges   \n",
       "...                                                 ...   \n",
       "4096  Boris Johnson says the UK will continue to \"in...   \n",
       "4097  There is increasing evidence that Australia is...   \n",
       "4098  The land under Beijing is sinking by as much a...   \n",
       "4099  Mounting evidence suggests 'hobbits' were wipe...   \n",
       "4100  S&amp;P revises European Union credit rating t...   \n",
       "\n",
       "                                                News 18  \\\n",
       "0                        Happy birthday Harpers & Queen   \n",
       "1                            Wilkinson out of his depth   \n",
       "2                                               Go fish   \n",
       "3     Year of Blanchflower's flourish when Spurs sto...   \n",
       "4                               Art review: Paul Graham   \n",
       "...                                                 ...   \n",
       "4096  Richard Branson is calling on the UK governmen...   \n",
       "4097  Richard Branson, the founder of Virgin Group, ...   \n",
       "4098  Car bomb and Anti-Islamic attack on Mosque in ...   \n",
       "4099  The men who carried out Tuesday's terror attac...   \n",
       "4100  India gets $1 billion loan from World Bank for...   \n",
       "\n",
       "                                                News 19  \\\n",
       "0     Win unlimited access to the Raindance film fes...   \n",
       "1                      Kinsella sparks Irish power play   \n",
       "2            Bosnian Serb blows himself up to evade law   \n",
       "3         New direct approach brings only pay-per-blues   \n",
       "4                  Shearer shot sparks Boro humiliation   \n",
       "...                                                 ...   \n",
       "4096             Turkey 'sorry for downing Russian jet'   \n",
       "4097  37,000-yr-old skull from Borneo reveals surpri...   \n",
       "4098  Emaciated lions in Taiz Zoo are trapped in blo...   \n",
       "4099  Calls to suspend Saudi Arabia from UN Human Ri...   \n",
       "4100  U.S. sailors detained by Iran spoke too much u...   \n",
       "\n",
       "                                                News 20  \\\n",
       "0     Labour pledges £800m to bridge north-south divide   \n",
       "1                       Brown banished as Scots rebound   \n",
       "2                          Orange float delayed to 2001   \n",
       "3                              Third Division  round-up   \n",
       "4     Ridsdale's lingering fears as Leeds revisit Tu...   \n",
       "...                                                 ...   \n",
       "4096  Edward Snowden lawyer vows new push for pardon...   \n",
       "4097  Palestinians stone Western Wall worshipers; po...   \n",
       "4098  Rupert Murdoch describes Brexit as 'wonderful'...   \n",
       "4099  More Than 100 Nobel Laureates Call Out Greenpe...   \n",
       "4100  Mass fish kill in Vietnam solved as Taiwan ste...   \n",
       "\n",
       "                                                News 21  \\\n",
       "0          Wales: Lib-Lab pact firm despite resignation   \n",
       "1                      Battling Wales cling to lifeline   \n",
       "2     Angry factory workers root out fear, favours a...   \n",
       "3                             Second Division  round-up   \n",
       "4               Champions League: Rangers v Galatasaray   \n",
       "...                                                 ...   \n",
       "4096  Brexit opinion poll reveals majority don't wan...   \n",
       "4097  Jean-Claude Juncker asks Farage: Why are you h...   \n",
       "4098       More than 40 killed in Yemen suicide attacks   \n",
       "4099  British pedophile sentenced to 85 years in US ...   \n",
       "4100  Philippines president Rodrigo Duterte urges pe...   \n",
       "\n",
       "                                                News 22  \\\n",
       "0                                          Donald Dewar   \n",
       "1                     Ehiogu close to sealing Boro move   \n",
       "2                    Smith defied advice on dome payout   \n",
       "3                              First Division  round-up   \n",
       "4                     Champions League: Lazio v Arsenal   \n",
       "...                                                 ...   \n",
       "4096  Conservative MP Leave Campaigner: \"The leave c...   \n",
       "4097  \"Romanians for Remainians\" offering a new home...   \n",
       "4098  Google Found Disastrous Symantec and Norton Vu...   \n",
       "4099  US permitted 1,200 offshore fracks in Gulf of ...   \n",
       "4100  Spain arrests three Pakistanis accused of prom...   \n",
       "\n",
       "                                                News 23  \\\n",
       "0     Regenerating homes  regenerates well-being in ...   \n",
       "1                                    Man-to-man marking   \n",
       "2                           Xerox takes the axe to jobs   \n",
       "3                   McLean ends his career with a punch   \n",
       "4                                   Lazio 1 - 1 Arsenal   \n",
       "...                                                 ...   \n",
       "4096  Economists predict UK recession, further weake...   \n",
       "4097  Brexit: Gibraltar in talks with Scotland to st...   \n",
       "4098  Extremist violence on the rise in Germany: Dom...   \n",
       "4099  We will be swimming in ridicule - French beach...   \n",
       "4100  Venezuela, where anger over food shortages is ...   \n",
       "\n",
       "                                                News 24  \\\n",
       "0                           Win £100 worth of underwear   \n",
       "1                                           Match stats   \n",
       "2                          Comment: Refugees in Britain   \n",
       "3                             Heskey grabs triple crown   \n",
       "4                                   England in Pakistan   \n",
       "...                                                 ...   \n",
       "4096  New EU 'superstate plan by France, Germany: Cr...   \n",
       "4097                   8 Suicide Bombers Strike Lebanon   \n",
       "4098  BBC News: Labour MPs pass Corbyn no-confidence...   \n",
       "4099  UEFA says no minutes of silence for Istanbul v...   \n",
       "4100  A Hindu temple worker has been killed by three...   \n",
       "\n",
       "                                                News 25  \n",
       "0                                TV guide: Random views  \n",
       "1     French referee at centre of storm is no strang...  \n",
       "2                 Maverick who sparked the new intifada  \n",
       "3                      Weah on his way as City march on  \n",
       "4                  England given olive-branch reception  \n",
       "...                                                 ...  \n",
       "4096  Pakistani clerics declare transgender marriage...  \n",
       "4097  Mexico's security forces routinely use 'sexual...  \n",
       "4098  Tiny New Zealand town with 'too many jobs' lau...  \n",
       "4099  Law Enforcement Sources: Gun Used in Paris Ter...  \n",
       "4100  Ozone layer hole seems to be healing - US &amp...  \n",
       "\n",
       "[4101 rows x 27 columns]"
      ]
     },
     "execution_count": 6,
     "metadata": {},
     "output_type": "execute_result"
    }
   ],
   "source": [
    "df"
   ]
  },
  {
   "cell_type": "code",
   "execution_count": 7,
   "id": "62c87acc",
   "metadata": {},
   "outputs": [
    {
     "name": "stdout",
     "output_type": "stream",
     "text": [
      "<class 'pandas.core.frame.DataFrame'>\n",
      "RangeIndex: 4101 entries, 0 to 4100\n",
      "Data columns (total 27 columns):\n",
      " #   Column   Non-Null Count  Dtype \n",
      "---  ------   --------------  ----- \n",
      " 0   Date     4101 non-null   object\n",
      " 1   Label    4101 non-null   int64 \n",
      " 2   News 1   4101 non-null   object\n",
      " 3   News 2   4101 non-null   object\n",
      " 4   News 3   4101 non-null   object\n",
      " 5   News 4   4101 non-null   object\n",
      " 6   News 5   4101 non-null   object\n",
      " 7   News 6   4101 non-null   object\n",
      " 8   News 7   4101 non-null   object\n",
      " 9   News 8   4101 non-null   object\n",
      " 10  News 9   4101 non-null   object\n",
      " 11  News 10  4101 non-null   object\n",
      " 12  News 11  4101 non-null   object\n",
      " 13  News 12  4101 non-null   object\n",
      " 14  News 13  4101 non-null   object\n",
      " 15  News 14  4101 non-null   object\n",
      " 16  News 15  4101 non-null   object\n",
      " 17  News 16  4101 non-null   object\n",
      " 18  News 17  4101 non-null   object\n",
      " 19  News 18  4101 non-null   object\n",
      " 20  News 19  4101 non-null   object\n",
      " 21  News 20  4101 non-null   object\n",
      " 22  News 21  4101 non-null   object\n",
      " 23  News 22  4101 non-null   object\n",
      " 24  News 23  4100 non-null   object\n",
      " 25  News 24  4098 non-null   object\n",
      " 26  News 25  4098 non-null   object\n",
      "dtypes: int64(1), object(26)\n",
      "memory usage: 865.2+ KB\n"
     ]
    }
   ],
   "source": [
    "df.info()"
   ]
  },
  {
   "cell_type": "code",
   "execution_count": 8,
   "id": "e3dfc009",
   "metadata": {},
   "outputs": [
    {
     "data": {
      "text/plain": [
       "(4101, 27)"
      ]
     },
     "execution_count": 8,
     "metadata": {},
     "output_type": "execute_result"
    }
   ],
   "source": [
    "df.shape"
   ]
  },
  {
   "cell_type": "code",
   "execution_count": 9,
   "id": "3507d1cc",
   "metadata": {},
   "outputs": [
    {
     "data": {
      "text/plain": [
       "Index(['Date', 'Label', 'News 1', 'News 2', 'News 3', 'News 4', 'News 5',\n",
       "       'News 6', 'News 7', 'News 8', 'News 9', 'News 10', 'News 11', 'News 12',\n",
       "       'News 13', 'News 14', 'News 15', 'News 16', 'News 17', 'News 18',\n",
       "       'News 19', 'News 20', 'News 21', 'News 22', 'News 23', 'News 24',\n",
       "       'News 25'],\n",
       "      dtype='object')"
      ]
     },
     "execution_count": 9,
     "metadata": {},
     "output_type": "execute_result"
    }
   ],
   "source": [
    "df.columns"
   ]
  },
  {
   "cell_type": "code",
   "execution_count": 10,
   "id": "1b17a447",
   "metadata": {},
   "outputs": [
    {
     "data": {
      "text/plain": [
       "\"Warning from history points to crash Investors flee to dollar haven Banks and tobacco in favour Review: Llama Farmers War jitters lead to sell-off Your not-so-secret history Review: The Northern Sinfonia Review: Hysteria Review: The Guardsman Opera: The Marriage of Figaro Review: The Turk in Italy Deutsche spells out its plans for diversification Traders' panic sends oil prices skyward TV sport chief leaves home over romance Leader: Hi-tech twitch Why Wenger will stick to his Gunners Out of luck England hit rock bottom Wilkinson out of his depth Kinsella sparks Irish power play Brown banished as Scots rebound Battling Wales cling to lifeline Ehiogu close to sealing Boro move Man-to-man marking Match stats French referee at centre of storm is no stranger to controversy\""
      ]
     },
     "execution_count": 10,
     "metadata": {},
     "output_type": "execute_result"
    }
   ],
   "source": [
    "' '.join(str(x)for x in df.iloc[1,2:27])"
   ]
  },
  {
   "cell_type": "code",
   "execution_count": 11,
   "id": "b602a7cb",
   "metadata": {},
   "outputs": [
    {
     "data": {
      "text/plain": [
       "RangeIndex(start=0, stop=4101, step=1)"
      ]
     },
     "execution_count": 11,
     "metadata": {},
     "output_type": "execute_result"
    }
   ],
   "source": [
    "df.index"
   ]
  },
  {
   "cell_type": "code",
   "execution_count": 12,
   "id": "04c6f87d",
   "metadata": {},
   "outputs": [
    {
     "data": {
      "text/plain": [
       "4101"
      ]
     },
     "execution_count": 12,
     "metadata": {},
     "output_type": "execute_result"
    }
   ],
   "source": [
    "len(df.index)"
   ]
  },
  {
   "cell_type": "code",
   "execution_count": 13,
   "id": "49031f95",
   "metadata": {},
   "outputs": [],
   "source": [
    "news = []\n",
    "for row in range(0,len(df.index)):\n",
    "    news.append(' '.join(str(x)for x in df.iloc[row,2:27]))"
   ]
  },
  {
   "cell_type": "code",
   "execution_count": 14,
   "id": "729f6787",
   "metadata": {},
   "outputs": [
    {
     "data": {
      "text/plain": [
       "list"
      ]
     },
     "execution_count": 14,
     "metadata": {},
     "output_type": "execute_result"
    }
   ],
   "source": [
    "type(news)"
   ]
  },
  {
   "cell_type": "code",
   "execution_count": 15,
   "id": "9ffaeb38",
   "metadata": {},
   "outputs": [
    {
     "data": {
      "text/plain": [
       "\"McIlroy's men catch cold from Gudjonsson Obituary: Brian Walsh Workplace blues leave employers in the red Classical review: Rattle Dance review: Merce Cunningham Genetic tests to be used in setting premiums Opera review: La Bohème Pop review: Britney Spears Theatre review: The Circle Wales face a fraught night Under-21  round-up Smith off to blot his copybook Finns taking the mickey Praise wasted as Brown studies injury options Ireland wary of minnows Finland 0 - 0 England Healy a marked man Happy birthday Harpers & Queen Win unlimited access to the Raindance film festival Labour pledges £800m to bridge north-south divide Wales: Lib-Lab pact firm despite resignation Donald Dewar Regenerating homes  regenerates well-being in people Win £100 worth of underwear TV guide: Random views\""
      ]
     },
     "execution_count": 15,
     "metadata": {},
     "output_type": "execute_result"
    }
   ],
   "source": [
    "news[0]"
   ]
  },
  {
   "cell_type": "code",
   "execution_count": 16,
   "id": "f060b735",
   "metadata": {},
   "outputs": [],
   "source": [
    "x = news"
   ]
  },
  {
   "cell_type": "code",
   "execution_count": 17,
   "id": "c479b46b",
   "metadata": {},
   "outputs": [
    {
     "data": {
      "text/plain": [
       "list"
      ]
     },
     "execution_count": 17,
     "metadata": {},
     "output_type": "execute_result"
    }
   ],
   "source": [
    "type(x)"
   ]
  },
  {
   "cell_type": "code",
   "execution_count": 19,
   "id": "3e642efb",
   "metadata": {},
   "outputs": [],
   "source": [
    "from sklearn.feature_extraction.text import CountVectorizer"
   ]
  },
  {
   "cell_type": "code",
   "execution_count": 20,
   "id": "84e7ea66",
   "metadata": {},
   "outputs": [],
   "source": [
    "cv = CountVectorizer(lowercase=True,ngram_range=(1,1))"
   ]
  },
  {
   "cell_type": "code",
   "execution_count": 21,
   "id": "5345cfe5",
   "metadata": {},
   "outputs": [],
   "source": [
    "x = cv.fit_transform(x)"
   ]
  },
  {
   "cell_type": "code",
   "execution_count": 22,
   "id": "b111c236",
   "metadata": {},
   "outputs": [
    {
     "data": {
      "text/plain": [
       "(4101, 48527)"
      ]
     },
     "execution_count": 22,
     "metadata": {},
     "output_type": "execute_result"
    }
   ],
   "source": [
    "x.shape"
   ]
  },
  {
   "cell_type": "code",
   "execution_count": 23,
   "id": "9a6e2f47",
   "metadata": {},
   "outputs": [],
   "source": [
    "y = df['Label']"
   ]
  },
  {
   "cell_type": "code",
   "execution_count": 24,
   "id": "9186925b",
   "metadata": {},
   "outputs": [
    {
     "data": {
      "text/plain": [
       "(4101,)"
      ]
     },
     "execution_count": 24,
     "metadata": {},
     "output_type": "execute_result"
    }
   ],
   "source": [
    "y.shape"
   ]
  },
  {
   "cell_type": "code",
   "execution_count": 25,
   "id": "a28dd501",
   "metadata": {},
   "outputs": [],
   "source": [
    "from sklearn.model_selection import train_test_split"
   ]
  },
  {
   "cell_type": "code",
   "execution_count": 26,
   "id": "52142b9d",
   "metadata": {},
   "outputs": [],
   "source": [
    "x_train,x_test,y_train,y_test = train_test_split(x, y, train_size=0.3,stratify=y,random_state=2529)"
   ]
  },
  {
   "cell_type": "code",
   "execution_count": 27,
   "id": "a5aceca9",
   "metadata": {},
   "outputs": [],
   "source": [
    "from sklearn.ensemble import RandomForestClassifier"
   ]
  },
  {
   "cell_type": "code",
   "execution_count": 28,
   "id": "e19418d3",
   "metadata": {},
   "outputs": [],
   "source": [
    "rf = RandomForestClassifier(n_estimators=200)"
   ]
  },
  {
   "cell_type": "code",
   "execution_count": 29,
   "id": "b704002e",
   "metadata": {},
   "outputs": [
    {
     "data": {
      "text/plain": [
       "RandomForestClassifier(n_estimators=200)"
      ]
     },
     "execution_count": 29,
     "metadata": {},
     "output_type": "execute_result"
    }
   ],
   "source": [
    "rf.fit(x_train,y_train)"
   ]
  },
  {
   "cell_type": "code",
   "execution_count": 30,
   "id": "50266edf",
   "metadata": {},
   "outputs": [],
   "source": [
    "y_pred = rf.predict(x_test)"
   ]
  },
  {
   "cell_type": "code",
   "execution_count": 31,
   "id": "a3a7292c",
   "metadata": {},
   "outputs": [],
   "source": [
    "from sklearn.metrics import classification_report,confusion_matrix,accuracy_score"
   ]
  },
  {
   "cell_type": "code",
   "execution_count": 32,
   "id": "e97c8c88",
   "metadata": {},
   "outputs": [
    {
     "data": {
      "text/plain": [
       "array([[ 290, 1065],\n",
       "       [ 352, 1164]], dtype=int64)"
      ]
     },
     "execution_count": 32,
     "metadata": {},
     "output_type": "execute_result"
    }
   ],
   "source": [
    "confusion_matrix(y_test,y_pred)"
   ]
  },
  {
   "cell_type": "code",
   "execution_count": 33,
   "id": "2821192b",
   "metadata": {},
   "outputs": [
    {
     "name": "stdout",
     "output_type": "stream",
     "text": [
      "              precision    recall  f1-score   support\n",
      "\n",
      "           0       0.45      0.21      0.29      1355\n",
      "           1       0.52      0.77      0.62      1516\n",
      "\n",
      "    accuracy                           0.51      2871\n",
      "   macro avg       0.49      0.49      0.46      2871\n",
      "weighted avg       0.49      0.51      0.47      2871\n",
      "\n"
     ]
    }
   ],
   "source": [
    "print( classification_report(y_test,y_pred))"
   ]
  },
  {
   "cell_type": "code",
   "execution_count": null,
   "id": "6029c900",
   "metadata": {},
   "outputs": [],
   "source": []
  }
 ],
 "metadata": {
  "kernelspec": {
   "display_name": "Python 3 (ipykernel)",
   "language": "python",
   "name": "python3"
  },
  "language_info": {
   "codemirror_mode": {
    "name": "ipython",
    "version": 3
   },
   "file_extension": ".py",
   "mimetype": "text/x-python",
   "name": "python",
   "nbconvert_exporter": "python",
   "pygments_lexer": "ipython3",
   "version": "3.9.7"
  }
 },
 "nbformat": 4,
 "nbformat_minor": 5
}
