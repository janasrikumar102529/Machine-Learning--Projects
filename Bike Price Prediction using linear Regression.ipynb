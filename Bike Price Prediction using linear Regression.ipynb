{
 "cells": [
  {
   "cell_type": "markdown",
   "id": "7f15743f",
   "metadata": {},
   "source": [
    "Bike Price Prediction using Linear Regresssion"
   ]
  },
  {
   "cell_type": "code",
   "execution_count": 71,
   "id": "4ff6bc3e",
   "metadata": {},
   "outputs": [],
   "source": [
    "import pandas as pd \n",
    "import numpy as np"
   ]
  },
  {
   "cell_type": "code",
   "execution_count": 72,
   "id": "8c45443e",
   "metadata": {},
   "outputs": [],
   "source": [
    "df = pd.read_csv(\"C:/YBI - DATASETS/Dataset-main/Bike Prices.csv\")"
   ]
  },
  {
   "cell_type": "code",
   "execution_count": 73,
   "id": "f68807fb",
   "metadata": {},
   "outputs": [
    {
     "data": {
      "text/html": [
       "<div>\n",
       "<style scoped>\n",
       "    .dataframe tbody tr th:only-of-type {\n",
       "        vertical-align: middle;\n",
       "    }\n",
       "\n",
       "    .dataframe tbody tr th {\n",
       "        vertical-align: top;\n",
       "    }\n",
       "\n",
       "    .dataframe thead th {\n",
       "        text-align: right;\n",
       "    }\n",
       "</style>\n",
       "<table border=\"1\" class=\"dataframe\">\n",
       "  <thead>\n",
       "    <tr style=\"text-align: right;\">\n",
       "      <th></th>\n",
       "      <th>Brand</th>\n",
       "      <th>Model</th>\n",
       "      <th>Selling_Price</th>\n",
       "      <th>Year</th>\n",
       "      <th>Seller_Type</th>\n",
       "      <th>Owner</th>\n",
       "      <th>KM_Driven</th>\n",
       "      <th>Ex_Showroom_Price</th>\n",
       "    </tr>\n",
       "  </thead>\n",
       "  <tbody>\n",
       "    <tr>\n",
       "      <th>0</th>\n",
       "      <td>TVS</td>\n",
       "      <td>TVS XL 100</td>\n",
       "      <td>30000</td>\n",
       "      <td>2017</td>\n",
       "      <td>Individual</td>\n",
       "      <td>1st owner</td>\n",
       "      <td>8000</td>\n",
       "      <td>30490.0</td>\n",
       "    </tr>\n",
       "    <tr>\n",
       "      <th>1</th>\n",
       "      <td>Bajaj</td>\n",
       "      <td>Bajaj  ct 100</td>\n",
       "      <td>18000</td>\n",
       "      <td>2017</td>\n",
       "      <td>Individual</td>\n",
       "      <td>1st owner</td>\n",
       "      <td>35000</td>\n",
       "      <td>32000.0</td>\n",
       "    </tr>\n",
       "    <tr>\n",
       "      <th>2</th>\n",
       "      <td>Yo</td>\n",
       "      <td>Yo Style</td>\n",
       "      <td>20000</td>\n",
       "      <td>2011</td>\n",
       "      <td>Individual</td>\n",
       "      <td>1st owner</td>\n",
       "      <td>10000</td>\n",
       "      <td>37675.0</td>\n",
       "    </tr>\n",
       "    <tr>\n",
       "      <th>3</th>\n",
       "      <td>Bajaj</td>\n",
       "      <td>Bajaj Discover 100</td>\n",
       "      <td>25000</td>\n",
       "      <td>2010</td>\n",
       "      <td>Individual</td>\n",
       "      <td>1st owner</td>\n",
       "      <td>43000</td>\n",
       "      <td>42859.0</td>\n",
       "    </tr>\n",
       "    <tr>\n",
       "      <th>4</th>\n",
       "      <td>Bajaj</td>\n",
       "      <td>Bajaj Discover 100</td>\n",
       "      <td>24999</td>\n",
       "      <td>2012</td>\n",
       "      <td>Individual</td>\n",
       "      <td>2nd owner</td>\n",
       "      <td>35000</td>\n",
       "      <td>42859.0</td>\n",
       "    </tr>\n",
       "    <tr>\n",
       "      <th>...</th>\n",
       "      <td>...</td>\n",
       "      <td>...</td>\n",
       "      <td>...</td>\n",
       "      <td>...</td>\n",
       "      <td>...</td>\n",
       "      <td>...</td>\n",
       "      <td>...</td>\n",
       "      <td>...</td>\n",
       "    </tr>\n",
       "    <tr>\n",
       "      <th>1056</th>\n",
       "      <td>Royal</td>\n",
       "      <td>Royal Enfield Electra 5 S</td>\n",
       "      <td>90000</td>\n",
       "      <td>2012</td>\n",
       "      <td>Individual</td>\n",
       "      <td>1st owner</td>\n",
       "      <td>40000</td>\n",
       "      <td>NaN</td>\n",
       "    </tr>\n",
       "    <tr>\n",
       "      <th>1057</th>\n",
       "      <td>Hero</td>\n",
       "      <td>Hero Honda Hunk</td>\n",
       "      <td>20000</td>\n",
       "      <td>2010</td>\n",
       "      <td>Individual</td>\n",
       "      <td>1st owner</td>\n",
       "      <td>17000</td>\n",
       "      <td>NaN</td>\n",
       "    </tr>\n",
       "    <tr>\n",
       "      <th>1058</th>\n",
       "      <td>Bajaj</td>\n",
       "      <td>Bajaj Pulsar 220 DTS-i</td>\n",
       "      <td>60000</td>\n",
       "      <td>2014</td>\n",
       "      <td>Individual</td>\n",
       "      <td>1st owner</td>\n",
       "      <td>16000</td>\n",
       "      <td>NaN</td>\n",
       "    </tr>\n",
       "    <tr>\n",
       "      <th>1059</th>\n",
       "      <td>Hero</td>\n",
       "      <td>Hero Honda CBZ extreme</td>\n",
       "      <td>40000</td>\n",
       "      <td>2009</td>\n",
       "      <td>Individual</td>\n",
       "      <td>1st owner</td>\n",
       "      <td>50000</td>\n",
       "      <td>NaN</td>\n",
       "    </tr>\n",
       "    <tr>\n",
       "      <th>1060</th>\n",
       "      <td>Hero</td>\n",
       "      <td>Hero Honda CBZ extreme</td>\n",
       "      <td>35000</td>\n",
       "      <td>2012</td>\n",
       "      <td>Individual</td>\n",
       "      <td>1st owner</td>\n",
       "      <td>60000</td>\n",
       "      <td>NaN</td>\n",
       "    </tr>\n",
       "  </tbody>\n",
       "</table>\n",
       "<p>1061 rows × 8 columns</p>\n",
       "</div>"
      ],
      "text/plain": [
       "      Brand                      Model  Selling_Price  Year Seller_Type  \\\n",
       "0       TVS                 TVS XL 100          30000  2017  Individual   \n",
       "1     Bajaj              Bajaj  ct 100          18000  2017  Individual   \n",
       "2        Yo                   Yo Style          20000  2011  Individual   \n",
       "3     Bajaj         Bajaj Discover 100          25000  2010  Individual   \n",
       "4     Bajaj         Bajaj Discover 100          24999  2012  Individual   \n",
       "...     ...                        ...            ...   ...         ...   \n",
       "1056  Royal  Royal Enfield Electra 5 S          90000  2012  Individual   \n",
       "1057   Hero            Hero Honda Hunk          20000  2010  Individual   \n",
       "1058  Bajaj     Bajaj Pulsar 220 DTS-i          60000  2014  Individual   \n",
       "1059   Hero     Hero Honda CBZ extreme          40000  2009  Individual   \n",
       "1060   Hero     Hero Honda CBZ extreme          35000  2012  Individual   \n",
       "\n",
       "          Owner  KM_Driven  Ex_Showroom_Price  \n",
       "0     1st owner       8000            30490.0  \n",
       "1     1st owner      35000            32000.0  \n",
       "2     1st owner      10000            37675.0  \n",
       "3     1st owner      43000            42859.0  \n",
       "4     2nd owner      35000            42859.0  \n",
       "...         ...        ...                ...  \n",
       "1056  1st owner      40000                NaN  \n",
       "1057  1st owner      17000                NaN  \n",
       "1058  1st owner      16000                NaN  \n",
       "1059  1st owner      50000                NaN  \n",
       "1060  1st owner      60000                NaN  \n",
       "\n",
       "[1061 rows x 8 columns]"
      ]
     },
     "execution_count": 73,
     "metadata": {},
     "output_type": "execute_result"
    }
   ],
   "source": [
    "df"
   ]
  },
  {
   "cell_type": "code",
   "execution_count": 74,
   "id": "e8917697",
   "metadata": {},
   "outputs": [
    {
     "name": "stdout",
     "output_type": "stream",
     "text": [
      "<class 'pandas.core.frame.DataFrame'>\n",
      "RangeIndex: 1061 entries, 0 to 1060\n",
      "Data columns (total 8 columns):\n",
      " #   Column             Non-Null Count  Dtype  \n",
      "---  ------             --------------  -----  \n",
      " 0   Brand              1061 non-null   object \n",
      " 1   Model              1061 non-null   object \n",
      " 2   Selling_Price      1061 non-null   int64  \n",
      " 3   Year               1061 non-null   int64  \n",
      " 4   Seller_Type        1061 non-null   object \n",
      " 5   Owner              1061 non-null   object \n",
      " 6   KM_Driven          1061 non-null   int64  \n",
      " 7   Ex_Showroom_Price  626 non-null    float64\n",
      "dtypes: float64(1), int64(3), object(4)\n",
      "memory usage: 66.4+ KB\n"
     ]
    }
   ],
   "source": [
    "df.info()"
   ]
  },
  {
   "cell_type": "code",
   "execution_count": 75,
   "id": "df155a6f",
   "metadata": {},
   "outputs": [],
   "source": [
    "df=df.dropna()"
   ]
  },
  {
   "cell_type": "code",
   "execution_count": 76,
   "id": "22800c27",
   "metadata": {},
   "outputs": [
    {
     "data": {
      "text/html": [
       "<div>\n",
       "<style scoped>\n",
       "    .dataframe tbody tr th:only-of-type {\n",
       "        vertical-align: middle;\n",
       "    }\n",
       "\n",
       "    .dataframe tbody tr th {\n",
       "        vertical-align: top;\n",
       "    }\n",
       "\n",
       "    .dataframe thead th {\n",
       "        text-align: right;\n",
       "    }\n",
       "</style>\n",
       "<table border=\"1\" class=\"dataframe\">\n",
       "  <thead>\n",
       "    <tr style=\"text-align: right;\">\n",
       "      <th></th>\n",
       "      <th>Selling_Price</th>\n",
       "      <th>Year</th>\n",
       "      <th>KM_Driven</th>\n",
       "      <th>Ex_Showroom_Price</th>\n",
       "    </tr>\n",
       "  </thead>\n",
       "  <tbody>\n",
       "    <tr>\n",
       "      <th>count</th>\n",
       "      <td>626.000000</td>\n",
       "      <td>626.000000</td>\n",
       "      <td>626.000000</td>\n",
       "      <td>6.260000e+02</td>\n",
       "    </tr>\n",
       "    <tr>\n",
       "      <th>mean</th>\n",
       "      <td>59445.164537</td>\n",
       "      <td>2014.800319</td>\n",
       "      <td>32671.576677</td>\n",
       "      <td>8.795871e+04</td>\n",
       "    </tr>\n",
       "    <tr>\n",
       "      <th>std</th>\n",
       "      <td>59904.350888</td>\n",
       "      <td>3.018885</td>\n",
       "      <td>45479.661039</td>\n",
       "      <td>7.749659e+04</td>\n",
       "    </tr>\n",
       "    <tr>\n",
       "      <th>min</th>\n",
       "      <td>6000.000000</td>\n",
       "      <td>2001.000000</td>\n",
       "      <td>380.000000</td>\n",
       "      <td>3.049000e+04</td>\n",
       "    </tr>\n",
       "    <tr>\n",
       "      <th>25%</th>\n",
       "      <td>30000.000000</td>\n",
       "      <td>2013.000000</td>\n",
       "      <td>13031.250000</td>\n",
       "      <td>5.485200e+04</td>\n",
       "    </tr>\n",
       "    <tr>\n",
       "      <th>50%</th>\n",
       "      <td>45000.000000</td>\n",
       "      <td>2015.000000</td>\n",
       "      <td>25000.000000</td>\n",
       "      <td>7.275250e+04</td>\n",
       "    </tr>\n",
       "    <tr>\n",
       "      <th>75%</th>\n",
       "      <td>65000.000000</td>\n",
       "      <td>2017.000000</td>\n",
       "      <td>40000.000000</td>\n",
       "      <td>8.703150e+04</td>\n",
       "    </tr>\n",
       "    <tr>\n",
       "      <th>max</th>\n",
       "      <td>760000.000000</td>\n",
       "      <td>2020.000000</td>\n",
       "      <td>585659.000000</td>\n",
       "      <td>1.278000e+06</td>\n",
       "    </tr>\n",
       "  </tbody>\n",
       "</table>\n",
       "</div>"
      ],
      "text/plain": [
       "       Selling_Price         Year      KM_Driven  Ex_Showroom_Price\n",
       "count     626.000000   626.000000     626.000000       6.260000e+02\n",
       "mean    59445.164537  2014.800319   32671.576677       8.795871e+04\n",
       "std     59904.350888     3.018885   45479.661039       7.749659e+04\n",
       "min      6000.000000  2001.000000     380.000000       3.049000e+04\n",
       "25%     30000.000000  2013.000000   13031.250000       5.485200e+04\n",
       "50%     45000.000000  2015.000000   25000.000000       7.275250e+04\n",
       "75%     65000.000000  2017.000000   40000.000000       8.703150e+04\n",
       "max    760000.000000  2020.000000  585659.000000       1.278000e+06"
      ]
     },
     "execution_count": 76,
     "metadata": {},
     "output_type": "execute_result"
    }
   ],
   "source": [
    "df.describe()"
   ]
  },
  {
   "cell_type": "code",
   "execution_count": 77,
   "id": "4d89ae33",
   "metadata": {},
   "outputs": [
    {
     "data": {
      "text/plain": [
       "Brand   \n",
       "Honda       170\n",
       "Bajaj       143\n",
       "Hero        108\n",
       "Yamaha       94\n",
       "Royal        40\n",
       "TVS          23\n",
       "Suzuki       18\n",
       "KTM           6\n",
       "Mahindra      6\n",
       "Kawasaki      4\n",
       "UM            3\n",
       "Activa        3\n",
       "Harley        2\n",
       "Vespa         2\n",
       "BMW           1\n",
       "Hyosung       1\n",
       "Benelli       1\n",
       "Yo            1\n",
       "dtype: int64"
      ]
     },
     "execution_count": 77,
     "metadata": {},
     "output_type": "execute_result"
    }
   ],
   "source": [
    "df[['Brand']].value_counts()\n"
   ]
  },
  {
   "cell_type": "code",
   "execution_count": 78,
   "id": "a7c6f3f0",
   "metadata": {},
   "outputs": [
    {
     "data": {
      "text/plain": [
       "Model                                     \n",
       "Honda Activa [2000-2015]                      23\n",
       "Honda CB Hornet 160R                          22\n",
       "Bajaj Pulsar 180                              20\n",
       "Yamaha FZ S V 2.0                             16\n",
       "Bajaj Discover 125                            16\n",
       "                                              ..\n",
       "Royal Enfield Thunderbird 500                  1\n",
       "Royal Enfield Continental GT [2013 - 2018]     1\n",
       "Royal Enfield Classic Stealth Black            1\n",
       "Royal Enfield Classic Squadron Blue            1\n",
       "Yo Style                                       1\n",
       "Length: 183, dtype: int64"
      ]
     },
     "execution_count": 78,
     "metadata": {},
     "output_type": "execute_result"
    }
   ],
   "source": [
    "df[['Model']].value_counts()"
   ]
  },
  {
   "cell_type": "code",
   "execution_count": 79,
   "id": "d6c9022a",
   "metadata": {},
   "outputs": [
    {
     "data": {
      "text/plain": [
       "Seller_Type\n",
       "Individual     623\n",
       "Dealer           3\n",
       "dtype: int64"
      ]
     },
     "execution_count": 79,
     "metadata": {},
     "output_type": "execute_result"
    }
   ],
   "source": [
    "df[['Seller_Type']].value_counts()"
   ]
  },
  {
   "cell_type": "code",
   "execution_count": 80,
   "id": "0fbcb1ac",
   "metadata": {},
   "outputs": [
    {
     "data": {
      "text/plain": [
       "Owner    \n",
       "1st owner    556\n",
       "2nd owner     66\n",
       "3rd owner      3\n",
       "4th owner      1\n",
       "dtype: int64"
      ]
     },
     "execution_count": 80,
     "metadata": {},
     "output_type": "execute_result"
    }
   ],
   "source": [
    "df[['Owner']].value_counts()"
   ]
  },
  {
   "cell_type": "code",
   "execution_count": 81,
   "id": "f1783acb",
   "metadata": {},
   "outputs": [
    {
     "data": {
      "text/plain": [
       "Index(['Brand', 'Model', 'Selling_Price', 'Year', 'Seller_Type', 'Owner',\n",
       "       'KM_Driven', 'Ex_Showroom_Price'],\n",
       "      dtype='object')"
      ]
     },
     "execution_count": 81,
     "metadata": {},
     "output_type": "execute_result"
    }
   ],
   "source": [
    "df.columns"
   ]
  },
  {
   "cell_type": "code",
   "execution_count": 82,
   "id": "876877cc",
   "metadata": {},
   "outputs": [
    {
     "data": {
      "text/plain": [
       "(626, 8)"
      ]
     },
     "execution_count": 82,
     "metadata": {},
     "output_type": "execute_result"
    }
   ],
   "source": [
    "df.shape"
   ]
  },
  {
   "cell_type": "code",
   "execution_count": 83,
   "id": "eba2055e",
   "metadata": {},
   "outputs": [
    {
     "name": "stderr",
     "output_type": "stream",
     "text": [
      "C:\\ProgramData\\Anaconda3\\lib\\site-packages\\pandas\\core\\indexing.py:1773: SettingWithCopyWarning: \n",
      "A value is trying to be set on a copy of a slice from a DataFrame.\n",
      "Try using .loc[row_indexer,col_indexer] = value instead\n",
      "\n",
      "See the caveats in the documentation: https://pandas.pydata.org/pandas-docs/stable/user_guide/indexing.html#returning-a-view-versus-a-copy\n",
      "  self._setitem_single_column(ilocs[0], value, pi)\n"
     ]
    }
   ],
   "source": [
    "df.replace({'Seller_Type':{'Individual':0,'Dealer':1}},inplace=True)"
   ]
  },
  {
   "cell_type": "code",
   "execution_count": 84,
   "id": "5a55fcae",
   "metadata": {},
   "outputs": [],
   "source": [
    "df.replace({'Owner':{'1st owner':0,'2nd owner':1,'3rd owner':2,'4th owner':3}},inplace=True)"
   ]
  },
  {
   "cell_type": "code",
   "execution_count": 85,
   "id": "0157ed12",
   "metadata": {},
   "outputs": [],
   "source": [
    "#x=pd.get_dummies(x,columns=['Seller_Type','Owner'],drop_first=True)"
   ]
  },
  {
   "cell_type": "code",
   "execution_count": 86,
   "id": "a8fb4c7e",
   "metadata": {},
   "outputs": [],
   "source": [
    "y=df['Selling_Price']"
   ]
  },
  {
   "cell_type": "code",
   "execution_count": 87,
   "id": "2204fa3a",
   "metadata": {},
   "outputs": [
    {
     "data": {
      "text/plain": [
       "(626,)"
      ]
     },
     "execution_count": 87,
     "metadata": {},
     "output_type": "execute_result"
    }
   ],
   "source": [
    "y.shape"
   ]
  },
  {
   "cell_type": "code",
   "execution_count": 88,
   "id": "553f86aa",
   "metadata": {},
   "outputs": [
    {
     "data": {
      "text/plain": [
       "0       30000\n",
       "1       18000\n",
       "2       20000\n",
       "3       25000\n",
       "4       24999\n",
       "        ...  \n",
       "621    330000\n",
       "622    300000\n",
       "623    425000\n",
       "624    760000\n",
       "625    750000\n",
       "Name: Selling_Price, Length: 626, dtype: int64"
      ]
     },
     "execution_count": 88,
     "metadata": {},
     "output_type": "execute_result"
    }
   ],
   "source": [
    "y"
   ]
  },
  {
   "cell_type": "code",
   "execution_count": 89,
   "id": "19c2c11b",
   "metadata": {},
   "outputs": [],
   "source": [
    "x=df[['Selling_Price', 'Year', 'Seller_Type', 'Owner',\n",
    "       'KM_Driven', 'Ex_Showroom_Price']]"
   ]
  },
  {
   "cell_type": "code",
   "execution_count": 90,
   "id": "37b00441",
   "metadata": {},
   "outputs": [],
   "source": [
    "#x=df.drop(['Brand', 'Model', 'Selling_Price']axis=1)"
   ]
  },
  {
   "cell_type": "code",
   "execution_count": 91,
   "id": "e3d9ec54",
   "metadata": {},
   "outputs": [
    {
     "data": {
      "text/plain": [
       "(626, 6)"
      ]
     },
     "execution_count": 91,
     "metadata": {},
     "output_type": "execute_result"
    }
   ],
   "source": [
    "x.shape"
   ]
  },
  {
   "cell_type": "code",
   "execution_count": 92,
   "id": "9b392734",
   "metadata": {},
   "outputs": [
    {
     "data": {
      "text/html": [
       "<div>\n",
       "<style scoped>\n",
       "    .dataframe tbody tr th:only-of-type {\n",
       "        vertical-align: middle;\n",
       "    }\n",
       "\n",
       "    .dataframe tbody tr th {\n",
       "        vertical-align: top;\n",
       "    }\n",
       "\n",
       "    .dataframe thead th {\n",
       "        text-align: right;\n",
       "    }\n",
       "</style>\n",
       "<table border=\"1\" class=\"dataframe\">\n",
       "  <thead>\n",
       "    <tr style=\"text-align: right;\">\n",
       "      <th></th>\n",
       "      <th>Selling_Price</th>\n",
       "      <th>Year</th>\n",
       "      <th>Seller_Type</th>\n",
       "      <th>Owner</th>\n",
       "      <th>KM_Driven</th>\n",
       "      <th>Ex_Showroom_Price</th>\n",
       "    </tr>\n",
       "  </thead>\n",
       "  <tbody>\n",
       "    <tr>\n",
       "      <th>0</th>\n",
       "      <td>30000</td>\n",
       "      <td>2017</td>\n",
       "      <td>0</td>\n",
       "      <td>0</td>\n",
       "      <td>8000</td>\n",
       "      <td>30490.0</td>\n",
       "    </tr>\n",
       "    <tr>\n",
       "      <th>1</th>\n",
       "      <td>18000</td>\n",
       "      <td>2017</td>\n",
       "      <td>0</td>\n",
       "      <td>0</td>\n",
       "      <td>35000</td>\n",
       "      <td>32000.0</td>\n",
       "    </tr>\n",
       "    <tr>\n",
       "      <th>2</th>\n",
       "      <td>20000</td>\n",
       "      <td>2011</td>\n",
       "      <td>0</td>\n",
       "      <td>0</td>\n",
       "      <td>10000</td>\n",
       "      <td>37675.0</td>\n",
       "    </tr>\n",
       "    <tr>\n",
       "      <th>3</th>\n",
       "      <td>25000</td>\n",
       "      <td>2010</td>\n",
       "      <td>0</td>\n",
       "      <td>0</td>\n",
       "      <td>43000</td>\n",
       "      <td>42859.0</td>\n",
       "    </tr>\n",
       "    <tr>\n",
       "      <th>4</th>\n",
       "      <td>24999</td>\n",
       "      <td>2012</td>\n",
       "      <td>0</td>\n",
       "      <td>1</td>\n",
       "      <td>35000</td>\n",
       "      <td>42859.0</td>\n",
       "    </tr>\n",
       "    <tr>\n",
       "      <th>...</th>\n",
       "      <td>...</td>\n",
       "      <td>...</td>\n",
       "      <td>...</td>\n",
       "      <td>...</td>\n",
       "      <td>...</td>\n",
       "      <td>...</td>\n",
       "    </tr>\n",
       "    <tr>\n",
       "      <th>621</th>\n",
       "      <td>330000</td>\n",
       "      <td>2014</td>\n",
       "      <td>0</td>\n",
       "      <td>3</td>\n",
       "      <td>6500</td>\n",
       "      <td>534000.0</td>\n",
       "    </tr>\n",
       "    <tr>\n",
       "      <th>622</th>\n",
       "      <td>300000</td>\n",
       "      <td>2011</td>\n",
       "      <td>0</td>\n",
       "      <td>0</td>\n",
       "      <td>12000</td>\n",
       "      <td>589000.0</td>\n",
       "    </tr>\n",
       "    <tr>\n",
       "      <th>623</th>\n",
       "      <td>425000</td>\n",
       "      <td>2017</td>\n",
       "      <td>0</td>\n",
       "      <td>1</td>\n",
       "      <td>13600</td>\n",
       "      <td>599000.0</td>\n",
       "    </tr>\n",
       "    <tr>\n",
       "      <th>624</th>\n",
       "      <td>760000</td>\n",
       "      <td>2019</td>\n",
       "      <td>0</td>\n",
       "      <td>0</td>\n",
       "      <td>2800</td>\n",
       "      <td>752020.0</td>\n",
       "    </tr>\n",
       "    <tr>\n",
       "      <th>625</th>\n",
       "      <td>750000</td>\n",
       "      <td>2013</td>\n",
       "      <td>0</td>\n",
       "      <td>1</td>\n",
       "      <td>12000</td>\n",
       "      <td>1278000.0</td>\n",
       "    </tr>\n",
       "  </tbody>\n",
       "</table>\n",
       "<p>626 rows × 6 columns</p>\n",
       "</div>"
      ],
      "text/plain": [
       "     Selling_Price  Year  Seller_Type  Owner  KM_Driven  Ex_Showroom_Price\n",
       "0            30000  2017            0      0       8000            30490.0\n",
       "1            18000  2017            0      0      35000            32000.0\n",
       "2            20000  2011            0      0      10000            37675.0\n",
       "3            25000  2010            0      0      43000            42859.0\n",
       "4            24999  2012            0      1      35000            42859.0\n",
       "..             ...   ...          ...    ...        ...                ...\n",
       "621         330000  2014            0      3       6500           534000.0\n",
       "622         300000  2011            0      0      12000           589000.0\n",
       "623         425000  2017            0      1      13600           599000.0\n",
       "624         760000  2019            0      0       2800           752020.0\n",
       "625         750000  2013            0      1      12000          1278000.0\n",
       "\n",
       "[626 rows x 6 columns]"
      ]
     },
     "execution_count": 92,
     "metadata": {},
     "output_type": "execute_result"
    }
   ],
   "source": [
    "x"
   ]
  },
  {
   "cell_type": "code",
   "execution_count": 93,
   "id": "c05d97de",
   "metadata": {},
   "outputs": [],
   "source": [
    "from sklearn.model_selection import train_test_split"
   ]
  },
  {
   "cell_type": "code",
   "execution_count": 94,
   "id": "11996cce",
   "metadata": {},
   "outputs": [],
   "source": [
    "x_train,x_test,y_train,y_test = train_test_split(x, y, train_size=0.3,random_state=2529)"
   ]
  },
  {
   "cell_type": "code",
   "execution_count": 95,
   "id": "cece2bf9",
   "metadata": {},
   "outputs": [
    {
     "data": {
      "text/plain": [
       "((187, 6), (439, 6), (187,), (439,))"
      ]
     },
     "execution_count": 95,
     "metadata": {},
     "output_type": "execute_result"
    }
   ],
   "source": [
    "x_train.shape,x_test.shape,y_train.shape,y_test.shape"
   ]
  },
  {
   "cell_type": "code",
   "execution_count": 144,
   "id": "d069fffe",
   "metadata": {},
   "outputs": [],
   "source": [
    "from sklearn.linear_model import LinearRegression"
   ]
  },
  {
   "cell_type": "code",
   "execution_count": 145,
   "id": "82809fc3",
   "metadata": {},
   "outputs": [],
   "source": [
    "lr = LinearRegression()"
   ]
  },
  {
   "cell_type": "code",
   "execution_count": 146,
   "id": "def749ab",
   "metadata": {},
   "outputs": [
    {
     "data": {
      "text/plain": [
       "LinearRegression()"
      ]
     },
     "execution_count": 146,
     "metadata": {},
     "output_type": "execute_result"
    }
   ],
   "source": [
    "lr.fit(x_train,y_train)"
   ]
  },
  {
   "cell_type": "code",
   "execution_count": 147,
   "id": "14327478",
   "metadata": {},
   "outputs": [],
   "source": [
    "y_pred=lr.predict(x_test)"
   ]
  },
  {
   "cell_type": "code",
   "execution_count": 148,
   "id": "5fc9e390",
   "metadata": {},
   "outputs": [
    {
     "data": {
      "text/plain": [
       "(439,)"
      ]
     },
     "execution_count": 148,
     "metadata": {},
     "output_type": "execute_result"
    }
   ],
   "source": [
    "y_pred.shape"
   ]
  },
  {
   "cell_type": "code",
   "execution_count": 149,
   "id": "824c6f3b",
   "metadata": {},
   "outputs": [
    {
     "data": {
      "text/plain": [
       "array([ 30000.,  45000.,  45000.,  45000.,  45000.,  50000.,  25000.,\n",
       "        80000., 140000.,  50000.,  25000.,  30000.,  65000.,  45000.,\n",
       "        75000., 100000.,  70000.,  35000.,  41000.,  40000.,  48000.,\n",
       "        50000.,  35000.,  60000., 105000.,  30000.,  45000., 110000.,\n",
       "        35000.,  30000.,  20000., 125000.,  38000.,  35000.,  60000.,\n",
       "        25000.,  35000.,  50000.,  60000.,  15000.,  65000.,  25000.,\n",
       "        48000.,  28000.,  85000.,  30900., 110000., 100000.,  80000.,\n",
       "        30000.,  80000.,  65000.,  30000.,  55000.,  22000.,  55000.,\n",
       "        35000.,  43000.,  55000.,  47000.,  23000.,  21000.,  56000.,\n",
       "        30000., 115000.,  24000.,  40000.,  60000.,  50000.,  50000.,\n",
       "        20000.,  50000., 300000.,  56000.,  48000.,  45000.,  30000.,\n",
       "        80000.,  50000., 130000.,  27000.,  25000.,  30000., 135000.,\n",
       "        35000.,  18000.,  18000.,  78500., 760000., 150000.,  90000.,\n",
       "        52000.,  35000.,  18000.,  25000.,  25000.,  22000.,  32000.,\n",
       "        20000.,  30000.,  55000.,  54786.,  30000.,  30000.,  22000.,\n",
       "       120000.,  75000.,  30000.,  65000.,  28000.,  50000.,  45000.,\n",
       "       425000.,  25000.,  27000.,  60000.,  85000., 165000.,  24000.,\n",
       "       110000.,  30000.,  48000.,  35000.,  70000.,  42000.,  50000.,\n",
       "        20000.,  40000.,  95000., 130000.,  12000.,  28000.,  65000.,\n",
       "       110000.,  50000.,  25000.,  85000.,  30000.,  40000.,  25000.,\n",
       "        38000.,  25000.,  30000.,  40000.,  34000.,  25000.,  70000.,\n",
       "        65000.,  25000.,  35000.,  42000.,  60000.,  35000., 150000.,\n",
       "        50000.,  35000.,  50000.,  20000.,  50000.,  42000.,  70000.,\n",
       "        20100., 145000., 120000.,  25000.,  72000.,  25000.,  10000.,\n",
       "        15000., 100000.,  60000.,  50000.,  75000.,  70000.,  35000.,\n",
       "        25000.,  30000., 120000.,  35000.,  65000.,  60000.,  40000.,\n",
       "        75000.,  55000.,  30000.,  50000.,  18000.,  40000.,  28000.,\n",
       "        38000.,  45000.,  56000., 180000., 185000., 120000.,  28000.,\n",
       "       100000., 160000.,  60000.,  98000.,  50000.,  15000.,  30000.,\n",
       "        23000., 145000.,  22989.,  70000.,  90000.,  25000.,  47999.,\n",
       "        42000.,  45000.,  55000.,  50000.,  20000.,  35000.,  45000.,\n",
       "        25000., 140000.,  65000.,  30000., 115000.,  25000.,  65000.,\n",
       "       750000., 125000.,  50000.,  28000.,  90000.,  30000.,  75000.,\n",
       "        22000.,  60000.,  23000.,  45000.,  42000., 140000.,  50000.,\n",
       "        38000.,  50000.,  35000.,  35000.,  38000.,  45000.,  90000.,\n",
       "        60000.,  70000.,  85000.,  40000.,  37000.,  40000.,  25000.,\n",
       "        48000.,  50000.,  32000.,  50000.,  38000.,  60000.,  40000.,\n",
       "        55000., 135000., 111000.,  20000.,  35000.,  50000.,  50000.,\n",
       "        40000.,  55000.,  30000.,  35000.,  15000.,  25000.,  65000.,\n",
       "       100000.,  70000.,  60000.,  18000.,  41000.,  45000.,  45000.,\n",
       "        70000.,  38000.,  45000.,  60000.,  50000.,  35000.,  30000.,\n",
       "        29500.,  70000.,  25000.,  60000.,  70000.,  26500.,  40000.,\n",
       "        45000.,  69000.,  22000.,  35000.,  40000.,  26500.,  60000.,\n",
       "        50000.,  29900.,  58000.,  95000.,  32000.,  60000.,  55000.,\n",
       "        35000.,  40000.,  45000.,  45000.,  50000.,  45000.,  30000.,\n",
       "       160000.,  40000.,  25000.,  27000.,  40000.,  58000.,  95000.,\n",
       "        65000.,  60000.,  35000.,  16600.,  45000.,  70000.,  50000.,\n",
       "       110000., 180000.,  40000.,  25000.,  55000.,  60000.,  30000.,\n",
       "        80000.,  40000.,  24999.,  45000.,  43000.,  38000.,  25000.,\n",
       "        40000.,  40000.,  30000.,  50000.,  65000.,  40000.,  60000.,\n",
       "        75000.,  75000.,  18000.,  65000.,  15000.,  25000.,  76000.,\n",
       "        42000.,  60000., 120000.,  45000.,  40000.,  20000., 365000.,\n",
       "        45000.,  10000.,  16000.,  62000.,  35000.,  75000.,  35000.,\n",
       "       150000., 135000.,  16000.,  45000.,  42000.,  15000.,  45000.,\n",
       "        36000.,  23000.,  40000.,  25000., 125000., 105000.,  75000.,\n",
       "        20000.,  45000.,  30000.,  75000.,  55000.,  40000.,  20000.,\n",
       "        75000.,  25000.,  32000.,  35000.,  50000.,  15000.,  42000.,\n",
       "        23000., 150000.,  35000., 165000.,  31000., 135000.,  45000.,\n",
       "        50000.,  65000.,  20000.,  30000.,  15000., 300000., 170000.,\n",
       "        25000., 150000.,  15000.,  20000.,  42000.,  50000., 105000.,\n",
       "        40000., 140000., 145000.,  65000.,  30000.,  30000.,  40000.,\n",
       "        60000.,  42000.,  22000.,  45000., 115000.,  35000.,  87000.,\n",
       "        36000.,  46000.,  25000.,  14900.,  26000.])"
      ]
     },
     "execution_count": 149,
     "metadata": {},
     "output_type": "execute_result"
    }
   ],
   "source": [
    "y_pred"
   ]
  },
  {
   "cell_type": "code",
   "execution_count": 150,
   "id": "ba1dc73b",
   "metadata": {},
   "outputs": [],
   "source": [
    "from sklearn.metrics import mean_absolute_percentage_error,r2_score"
   ]
  },
  {
   "cell_type": "code",
   "execution_count": 151,
   "id": "e8b70488",
   "metadata": {},
   "outputs": [
    {
     "data": {
      "text/plain": [
       "1.9376742735496567e-16"
      ]
     },
     "execution_count": 151,
     "metadata": {},
     "output_type": "execute_result"
    }
   ],
   "source": [
    "mean_absolute_percentage_error(y_test, y_pred)"
   ]
  },
  {
   "cell_type": "code",
   "execution_count": 152,
   "id": "3d98f443",
   "metadata": {},
   "outputs": [
    {
     "data": {
      "text/plain": [
       "1.0"
      ]
     },
     "execution_count": 152,
     "metadata": {},
     "output_type": "execute_result"
    }
   ],
   "source": [
    "r2_score(y_test, y_pred)"
   ]
  },
  {
   "cell_type": "code",
   "execution_count": 153,
   "id": "4fdac028",
   "metadata": {},
   "outputs": [
    {
     "data": {
      "image/png": "[encoded data removed]",
      "text/plain": [
       "<Figure size 432x288 with 1 Axes>"
      ]
     },
     "metadata": {
      "needs_background": "light"
     },
     "output_type": "display_data"
    }
   ],
   "source": [
    "import matplotlib.pyplot as plt\n",
    "plt.scatter(y_test,y_pred)\n",
    "plt.xlabel(\"Actual Prices\")\n",
    "plt.ylabel(\"Predicted Prices\")\n",
    "plt.title(\"Actual price Vs predicted price\")\n",
    "plt.show()"
   ]
  },
  {
   "cell_type": "code",
   "execution_count": 154,
   "id": "a1f96391",
   "metadata": {},
   "outputs": [],
   "source": [
    "df_new = df.sample(1)"
   ]
  },
  {
   "cell_type": "code",
   "execution_count": 155,
   "id": "9cb43929",
   "metadata": {},
   "outputs": [
    {
     "data": {
      "text/html": [
       "<div>\n",
       "<style scoped>\n",
       "    .dataframe tbody tr th:only-of-type {\n",
       "        vertical-align: middle;\n",
       "    }\n",
       "\n",
       "    .dataframe tbody tr th {\n",
       "        vertical-align: top;\n",
       "    }\n",
       "\n",
       "    .dataframe thead th {\n",
       "        text-align: right;\n",
       "    }\n",
       "</style>\n",
       "<table border=\"1\" class=\"dataframe\">\n",
       "  <thead>\n",
       "    <tr style=\"text-align: right;\">\n",
       "      <th></th>\n",
       "      <th>Brand</th>\n",
       "      <th>Model</th>\n",
       "      <th>Selling_Price</th>\n",
       "      <th>Year</th>\n",
       "      <th>Seller_Type</th>\n",
       "      <th>Owner</th>\n",
       "      <th>KM_Driven</th>\n",
       "      <th>Ex_Showroom_Price</th>\n",
       "    </tr>\n",
       "  </thead>\n",
       "  <tbody>\n",
       "    <tr>\n",
       "      <th>43</th>\n",
       "      <td>Hero</td>\n",
       "      <td>Hero Pleasure</td>\n",
       "      <td>20000</td>\n",
       "      <td>2012</td>\n",
       "      <td>0</td>\n",
       "      <td>1</td>\n",
       "      <td>30000</td>\n",
       "      <td>49600.0</td>\n",
       "    </tr>\n",
       "  </tbody>\n",
       "</table>\n",
       "</div>"
      ],
      "text/plain": [
       "   Brand          Model  Selling_Price  Year  Seller_Type  Owner  KM_Driven  \\\n",
       "43  Hero  Hero Pleasure          20000  2012            0      1      30000   \n",
       "\n",
       "    Ex_Showroom_Price  \n",
       "43            49600.0  "
      ]
     },
     "execution_count": 155,
     "metadata": {},
     "output_type": "execute_result"
    }
   ],
   "source": [
    "df_new"
   ]
  },
  {
   "cell_type": "code",
   "execution_count": 156,
   "id": "58062cd9",
   "metadata": {},
   "outputs": [
    {
     "data": {
      "text/plain": [
       "(1, 8)"
      ]
     },
     "execution_count": 156,
     "metadata": {},
     "output_type": "execute_result"
    }
   ],
   "source": [
    "df_new.shape"
   ]
  },
  {
   "cell_type": "code",
   "execution_count": 160,
   "id": "1a1f90b1",
   "metadata": {},
   "outputs": [],
   "source": [
    "x_new = df_new.drop(['Brand', 'Model', 'Selling_Price'],axis = 1)"
   ]
  },
  {
   "cell_type": "code",
   "execution_count": null,
   "id": "ddb245ef",
   "metadata": {},
   "outputs": [],
   "source": [
    "y_pred_new = lr.predict(x_new)"
   ]
  },
  {
   "cell_type": "code",
   "execution_count": null,
   "id": "d7f987a4",
   "metadata": {},
   "outputs": [],
   "source": []
  },
  {
   "cell_type": "code",
   "execution_count": null,
   "id": "9314da46",
   "metadata": {},
   "outputs": [],
   "source": []
  }
 ],
 "metadata": {
  "kernelspec": {
   "display_name": "Python 3 (ipykernel)",
   "language": "python",
   "name": "python3"
  },
  "language_info": {
   "codemirror_mode": {
    "name": "ipython",
    "version": 3
   },
   "file_extension": ".py",
   "mimetype": "text/x-python",
   "name": "python",
   "nbconvert_exporter": "python",
   "pygments_lexer": "ipython3",
   "version": "3.9.7"
  }
 },
 "nbformat": 4,
 "nbformat_minor": 5
}
